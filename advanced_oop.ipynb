{
 "cells": [
  {
   "cell_type": "code",
   "execution_count": 43,
   "metadata": {},
   "outputs": [],
   "source": [
    "class Person:\n",
    "    def __init__(self,NIC, name, email,dob, address, phone):\n",
    "        self.NIC = NIC\n",
    "        self.name = name\n",
    "        self.email = email\n",
    "        self.dob = dob\n",
    "        self.address = address\n",
    "        self.phone = phone\n",
    "    \n",
    "\n",
    "    def getNIC(self):\n",
    "        return self.NIC\n",
    "    \n",
    "\n",
    "    def getName(self):\n",
    "        return self.name\n",
    "    \n",
    "    def getEmail(self):\n",
    "        return self.email\n",
    "    \n",
    "    def getDOB(self):\n",
    "        return self.dob\n",
    "    \n",
    "    def getAddress(self):\n",
    "        return self.address\n",
    "    \n",
    "    def getPhone(self):\n",
    "        return self.phone\n",
    "    \n",
    "    def getPaymentMethods(self):\n",
    "        return self.payment_methods\n",
    "\n",
    "    \n"
   ]
  },
  {
   "cell_type": "code",
   "execution_count": 44,
   "metadata": {},
   "outputs": [],
   "source": [
    "class User(Person): #inherting from Person class\n",
    "    def __init__(self, user_id, NIC, name, email,dob, address, phone,payment_methods): #initialise parent class constructor\n",
    "        Person.__init__(self, NIC, name, email,dob, address, phone)\n",
    "        self.user_id = user_id\n",
    "        self.payment_methods = payment_methods\n",
    "\n",
    "    def getUserID(self):\n",
    "        return self.user_id\n",
    "    \n",
    "    def getPaymentMethods(self):\n",
    "        return self.payment_methods\n"
   ]
  },
  {
   "cell_type": "code",
   "execution_count": 45,
   "metadata": {},
   "outputs": [],
   "source": [
    "class Employee(Person):\n",
    "    def __init__(self, NIC, name, email,dob, address, phone,payment_methods,employee_id,salary,department):\n",
    "        Person.__init__(self, NIC, name, email,dob, address, phone)\n",
    "        self.employee_id = employee_id\n",
    "        self.salary = salary\n",
    "        self.department = department\n",
    "\n",
    "    def getEmployeeID(self):\n",
    "        return self.employee_id\n",
    "    \n",
    "    def getSalary(self):\n",
    "        return self.salary\n",
    "    \n",
    "    def getDepartment(self):\n",
    "        return self.department\n",
    "    \n",
    "    def calculatePay(self):\n",
    "        return self.salary\n",
    "    \n",
    "    "
   ]
  },
  {
   "cell_type": "code",
   "execution_count": 46,
   "metadata": {},
   "outputs": [],
   "source": [
    "class PartTimeEmployee(Employee):\n",
    "    def __init__(self, NIC, name, email,dob, address, phone,payment_methods,employee_id,salary,department, pay_per_hour,hours):\n",
    "        Employee.__init__(self, NIC, name, email,dob, address, phone,payment_methods,employee_id,salary,department)\n",
    "        self.name = name\n",
    "        self.pay_per_hour = pay_per_hour\n",
    "        self.hours=hours\n",
    "\n",
    "    def calculatePay(self):\n",
    "        self.salary=self.pay_per_hour * self.hours\n",
    "        return self.salary\n",
    "    "
   ]
  },
  {
   "cell_type": "code",
   "execution_count": 47,
   "metadata": {},
   "outputs": [],
   "source": [
    "class FullTimeEmployee(Employee):\n",
    "    def __init__(self, NIC, name, email, dob, address, phone, payment_methods, employee_id, salary, bonus,working_hours, department):\n",
    "        Employee.__init__(self,NIC, name, email, dob, address, phone, payment_methods, employee_id, salary, department)\n",
    "        self.bonus = bonus\n",
    "        self.working_hours = working_hours\n",
    "\n",
    "    def calculatePay(self):\n",
    "        self.salary = Employee.calculatePay(self) + self.bonus  \n",
    "        return self.salary\n",
    "\n",
    "    def get_bonus(self):\n",
    "        return self.bonus\n",
    "    \n",
    "    def get_working_hours(self):   \n",
    "        return self.working_hours"
   ]
  },
  {
   "cell_type": "code",
   "execution_count": 48,
   "metadata": {},
   "outputs": [
    {
     "name": "stdout",
     "output_type": "stream",
     "text": [
      "110000\n",
      "Tom Cruise\n"
     ]
    }
   ],
   "source": [
    "tom=FullTimeEmployee('12345','Tom Cruise','tom@cruise.com','12 January 1962','USA','123456789',['Credit Card'],'123',100000,10000,'40','IT')\n",
    "tom.calculatePay()\n",
    "print(tom.getSalary())\n",
    "print(tom.getName())"
   ]
  },
  {
   "cell_type": "code",
   "execution_count": 49,
   "metadata": {},
   "outputs": [
    {
     "name": "stdout",
     "output_type": "stream",
     "text": [
      "230000\n"
     ]
    }
   ],
   "source": [
    "#interfaces\n",
    "def generate_payroll(to_be_paid):\n",
    "    total=0\n",
    "    for emp in to_be_paid:\n",
    "        total=total+emp.calculatePay()\n",
    "\n",
    "    return total\n",
    "\n",
    "\n",
    "tom=FullTimeEmployee('12345','Tom Cruise','tom@cruise.com','12 January 1962','USA','123456789',['Credit Card'],'123',100000,10000,'40','IT')\n",
    "paul=PartTimeEmployee('123456','Paul Walker','paul@gmail.com','12 January 1973','USA','123456789',['Credit Card'],'123',100000,'IT',1000,20)\n",
    "rita=Employee('1234567','Rita Ora','rita@test.com','12 January 1990','USA','123456789',['Credit Card'],'123',100000,'IT')   \n",
    "\n",
    "\n",
    "employees=[tom,paul,rita]\n",
    "print(generate_payroll(employees))\n",
    "\n"
   ]
  }
 ],
 "metadata": {
  "kernelspec": {
   "display_name": "Python 3",
   "language": "python",
   "name": "python3"
  },
  "language_info": {
   "codemirror_mode": {
    "name": "ipython",
    "version": 3
   },
   "file_extension": ".py",
   "mimetype": "text/x-python",
   "name": "python",
   "nbconvert_exporter": "python",
   "pygments_lexer": "ipython3",
   "version": "3.10.2"
  },
  "orig_nbformat": 4
 },
 "nbformat": 4,
 "nbformat_minor": 2
}
